{
 "cells": [
  {
   "cell_type": "markdown",
   "metadata": {},
   "source": [
    "# Introduction"
   ]
  },
  {
   "cell_type": "markdown",
   "metadata": {},
   "source": [
    "In this project, I create an explanatory data visualization using Tableau Public from Prosper Loan dataset; explore the Prosper load market share distribution across USA, borrowers credit risk control, borrowers credit risk affecting factors and how Prosper bursting their market. In general, Prosper did not manage borrowers information well and struggled before 2009. In 2009, a Prosper rating system was introduced and market got recoverd. New risk control system made Prosper burst in 2013. \n",
    "\n",
    "Initial Visualization: https://public.tableau.com/profile/xuefei.yu#!/vizhome/Udacity_Tableau_Project_1st/Project_v1 \n",
    "\n",
    "Final   Visualization: https://public.tableau.com/profile/xuefei.yu#!/vizhome/Udacity_Tableau_Project_r444/Project_v1"
   ]
  },
  {
   "cell_type": "markdown",
   "metadata": {},
   "source": [
    "# Summary"
   ]
  },
  {
   "cell_type": "markdown",
   "metadata": {},
   "source": [
    "By exploring Prosper Loan Amount map across America, 13 states sharing 65% market(California, Texas, New York, Florida, Illinois, Georgia, Ohio, New Jersey, Virginia, Pennsylvania, Michigan, North Carolina and Maryland) were selected to compare their loan amount and debt ratio. Most of them have around 0.25 debt ratio or lower while most of midland states have around 0.30 debt ratio. The Prosper developed their market in these coastal states more than midland states.\n",
    "\n"
   ]
  },
  {
   "cell_type": "markdown",
   "metadata": {},
   "source": [
    "# Design"
   ]
  },
  {
   "cell_type": "markdown",
   "metadata": {},
   "source": [
    "### Initial Design"
   ]
  },
  {
   "cell_type": "markdown",
   "metadata": {},
   "source": [
    "After reading Prosper loan dateset features definition, I list all the features related to my story: loan origin amount, Loan origination date, Prosper ratings, states name, etc. The design idea is natually followed my thought. \n",
    "\n",
    "For the first version of visualization, chart type, format settingsand axis names for all the sheets were set to default. \n",
    "\n",
    "Firstly, I plot a line chart of loan amount per date to clearly view the trend of Prosper's marketing development. \n",
    "\n",
    "Then I created histogram sheet of loan amount in each states. A colored loan amount map using states names was designed to view the distribution more intuitional. \n",
    "\n",
    "Then I explored the relationship between Prosper rating(categorical) with other credit risk affecting factors(numerical) separately by histograms. These histograms showed that all credit affecting factors are highly related. I choose Prosper rating and debt ratio to dig more.\n",
    "\n",
    "At last, I mapped a market share under different categorised Prosper rating in selected states to make readers understand dominant market share more clearly.\n",
    "\n",
    "An animated visualization of loan amount per debt ratio by using 'pages' shelf.\n",
    "\n",
    "'Year' filter(2009 - 2014) was applied to all related data sources.\n"
   ]
  },
  {
   "cell_type": "markdown",
   "metadata": {},
   "source": [
    "### Design after Feedback\n"
   ]
  },
  {
   "cell_type": "markdown",
   "metadata": {},
   "source": [
    "Animation were added so that the reader can understand story better. Unfortunately, when I using the Page Control feature to save in my public profile, an error always occurred.\n",
    "\n",
    "Remove some redundant sheet titles, expand some axis title to make the feature more understandable.\n",
    "\n",
    "Added some annotation to key points. \n",
    "\n",
    "More detailed story Comments were updating to make the story more comprehensible\n",
    "\n",
    "Replace 'Pages' shelf features by filter shelf 'Year of date' because of unfixable error. "
   ]
  },
  {
   "cell_type": "markdown",
   "metadata": {},
   "source": [
    "# Feedback"
   ]
  },
  {
   "cell_type": "markdown",
   "metadata": {},
   "source": [
    "\n",
    "- There is no title for the whole story, need some time to figure out what is this story talking about\n",
    "\n",
    "- Explanation for some abbreviation axis names(e.g. HR:high risk)\n",
    "\n",
    "- Need some key points in plots to support story\n",
    "\n",
    "- Some dashboard have too less space,  plots are crowded together\n",
    "\n",
    "- Wrong spelling in story \n",
    "\n",
    "- Better to make showed filter floating, bigger visualization\n",
    "\n",
    "- there is no story in some Visualizations\n",
    "\n",
    "- Some graphs are hard to understand.\n"
   ]
  },
  {
   "cell_type": "markdown",
   "metadata": {},
   "source": [
    "# Resources"
   ]
  },
  {
   "cell_type": "markdown",
   "metadata": {},
   "source": [
    "https://en.wikipedia.org/wiki/Prosper_Marketplace#2009_post_SEC_relaunch\n",
    "\n",
    "https://stackoverflow.com/questions/47136002/how-to-convert-strings-in-tableau-desktop-like-we-use-text-function-in-ms\n",
    "\n",
    "https://community.tableau.com/thread/123287\n",
    "\n",
    "https://onlinehelp.tableau.com/current/pro/desktop/en-us/publish_workbooks_tableaupublic.html"
   ]
  }
 ],
 "metadata": {
  "kernelspec": {
   "display_name": "Python 3",
   "language": "python",
   "name": "python3"
  },
  "language_info": {
   "codemirror_mode": {
    "name": "ipython",
    "version": 3
   },
   "file_extension": ".py",
   "mimetype": "text/x-python",
   "name": "python",
   "nbconvert_exporter": "python",
   "pygments_lexer": "ipython3",
   "version": "3.6.4"
  }
 },
 "nbformat": 4,
 "nbformat_minor": 2
}
